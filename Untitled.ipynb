{
 "cells": [
  {
   "cell_type": "markdown",
   "metadata": {},
   "source": [
    "(Es importante señalar que para hacer visibles todos los codigos es necesario presionar control enter)\n",
    "\n",
    "# INSTRUCCIONES EN MARKDOWN\n",
    "\n",
    "Para hacer un título principal se utiliza un # al principio y se separa un con un espacio despues de este, depende del nivel que necesites es el número de asteriscos que se colocolan, por ejemplo, para un título de 2do nivel se colocan dos asteriscos y así sucesivamente. \n",
    "\n",
    "# Título1\n",
    "## Título2\n",
    "### Título3\n",
    "\n"
   ]
  },
  {
   "cell_type": "markdown",
   "metadata": {},
   "source": [
    "## Tipos de letras\n",
    "\n",
    "Aprendimos a usar 2 tipos de letras una de ellas es la Italica y otra son las negretas, para la italica se utiliza un * al principio y uno al final * sin espacios, por ejemplo: *Estas son palabras italica*\n",
    "\n",
    "Y para usar las negritas si utilizan 2 ** de la misma manera, al principio y al final. Por ejemplo: **Estas son palabras en negritas**\n",
    "    "
   ]
  },
  {
   "cell_type": "markdown",
   "metadata": {},
   "source": [
    "## Parrafos\n",
    "\n",
    "Algo importante de mencionar son los parrafos pues,\n",
    "\n",
    "se utiliza doble espacio para separa uno de otro.\n",
    "\n",
    "(Como esto)"
   ]
  },
  {
   "cell_type": "markdown",
   "metadata": {},
   "source": [
    "## Sangría\n",
    "Para darle sangría a los parraforos, es necesario un signo ocmo este, >, ya que con el cada signo utilizado es un espacio correspondiente alineado a la derecha. Por ejemplo:\n",
    "\n",
    "> Con uno.\n",
    ">> Con dos.\n",
    ">>> Con tres."
   ]
  },
  {
   "cell_type": "markdown",
   "metadata": {},
   "source": [
    "## Listas\n",
    "\n",
    "### Listas sin numeración.\n",
    ">> Para utilizar estas listas sin numeración pueden servir un signo de más, un signo de menos, o un asterisco, claro esta con la separación correspondiente. \n",
    "\n",
    ">> Cabe mencionar que casa uno de los simbolos en una lista no son exclusivos. Por ejemplo si hago esto:\n",
    "\n",
    "- Esto  \n",
    "+ Es una\n",
    "* Lista\n",
    "\n",
    "### Listas ordenadas\n",
    ">> Para que una lista sea ordenada es necesario colocar un punto enseguida del número y un depacio enseguida del número, o bien un parentesis cerrado como este ). Igual seguido del punto. \n",
    ">>> Y no es necesario ordenar los números ya que se ordenar al presionar control entrer. \n",
    "\n",
    "1. Esto\n",
    "6. Es\n",
    "4. una\n",
    "59. Lista\n",
    "\n",
    "Pero no se pueden combinar elementos como 1. y 1)\n",
    "\n",
    "1. Pero\n",
    "2) Esto\n",
    "7. No"
   ]
  },
  {
   "cell_type": "markdown",
   "metadata": {},
   "source": [
    "### Link\n",
    "\n",
    "Para agregar un link se utiliza [] estos corchetes como referencia enseguida del link encerrado entre parentesis. \n",
    "\n",
    "Y si queresmos un título, luego del lin lo podemos poner entre comillas \"\""
   ]
  },
  {
   "cell_type": "markdown",
   "metadata": {},
   "source": [
    "#### Imagenes\n",
    "\n",
    "Para agregar una imagen es simular al link, pero con la diferencia que este comienza con un signo de exclamación de inicio. ! Segido de un corchete y un parentesis con la ruta de la imagen, o link si es en linea. "
   ]
  },
  {
   "cell_type": "code",
   "execution_count": null,
   "metadata": {},
   "outputs": [],
   "source": []
  }
 ],
 "metadata": {
  "kernelspec": {
   "display_name": "Python 3",
   "language": "python",
   "name": "python3"
  },
  "language_info": {
   "codemirror_mode": {
    "name": "ipython",
    "version": 3
   },
   "file_extension": ".py",
   "mimetype": "text/x-python",
   "name": "python",
   "nbconvert_exporter": "python",
   "pygments_lexer": "ipython3",
   "version": "3.7.3"
  }
 },
 "nbformat": 4,
 "nbformat_minor": 2
}
